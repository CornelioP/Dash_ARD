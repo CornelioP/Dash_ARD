{
  "cells": [
    {
      "cell_type": "markdown",
      "metadata": {
        "id": "u8DCAqPOnfCN"
      },
      "source": [
        "**DATASET - selezione e importazione**\n",
        "---\n",
        "\n",
        "WASHINGTON\n",
        "1.  EV - Population (https://catalog.data.gov/dataset/electric-vehicle-population-data)\n",
        "2. EV - Adoption Rate (https://data.wa.gov/Transportation/Monthly-Electric-Vehicle-Adoption-Rate-by-County/crrp-awfs\n",
        ")\n",
        "\n",
        "ALTRI\n",
        "1.   Connecticut EV - Chiarging Stations (https://catalog.data.gov/dataset/electric-vehicle-charging-stations)\n",
        "2.   Dataset strano (https://catalog.data.gov/dataset/motor-vehicle-registrations-dashboard-data)\n"
      ]
    },
    {
      "cell_type": "code",
      "execution_count": null,
      "metadata": {
        "id": "VaNlR3Wwq-3b"
      },
      "outputs": [],
      "source": [
        "import pandas as pd \n",
        "import plotly.express as px\n",
        "import plotly.graph_objects as go\n",
        "import numpy as np\n",
        "from jupyter_dash import JupyterDash\n",
        "from dash import Dash, html, dcc, Input, Output\n",
        "\n",
        "\n",
        "pop = pd.read_csv(r\"C:\\Users\\Piate\\Desktop\\Uni\\TERZO ANNO\\ARD\\DATASET_ESAME\\Electric_Vehicle_Population_Data.csv\")\n",
        "adopt = pd.read_csv(r\"C:\\Users\\Piate\\Desktop\\Uni\\TERZO ANNO\\ARD\\DATASET_ESAME\\Electric_Vehicle_Population_Size_History_By_County.csv\")"
      ]
    },
    {
      "cell_type": "code",
      "execution_count": null,
      "metadata": {
        "colab": {
          "base_uri": "https://localhost:8080/"
        },
        "id": "NXvJoMfN7WRO",
        "outputId": "d39a5eb9-6925-4673-ec08-351ddf49c4b9"
      },
      "outputs": [],
      "source": [
        "pop.columns"
      ]
    },
    {
      "cell_type": "code",
      "execution_count": null,
      "metadata": {
        "colab": {
          "base_uri": "https://localhost:8080/"
        },
        "id": "jCExcN7Zs6qZ",
        "outputId": "94c5ced8-ec5f-4be0-c34b-67bcad379729"
      },
      "outputs": [],
      "source": [
        "adopt.columns\n"
      ]
    },
    {
      "cell_type": "markdown",
      "metadata": {
        "id": "jtLsl3Jl8mxz"
      },
      "source": [
        "**PULIZIA dei DATASET**\n",
        "---\n",
        "\n",
        "\n",
        "> **pop**\n",
        "\n",
        "1. eliminare righe che non hanno WA, e poi tutta la colonna stato\n",
        "2. eliminare colonna VIN\n",
        "3. eliminare Electric Utility\n",
        "4. eliminare 2020 Censun Tract\n",
        "5. eliminare Base MRP\n",
        "6. eliminare Electric Range (utile ai fini dell'analisi dello stato?)\n",
        "7. Postal Code serve per la mappa?\n",
        "\n",
        "\n",
        "\n",
        "> **adopt**\n",
        "\n",
        "1. eliminare colonna stato WA\n",
        "2. eliminare righe Vehicle Primary Use = \"truck\"\n"
      ]
    },
    {
      "cell_type": "code",
      "execution_count": null,
      "metadata": {
        "id": "VNBuWsjR9kKv"
      },
      "outputs": [],
      "source": [
        "\n",
        "#Rimozione colonne futili\n",
        "\n",
        "pop.drop('VIN (1-10)', axis=1, inplace=True)\n",
        "pop.drop('Electric Utility', axis=1, inplace=True)\n",
        "pop.drop('2020 Census Tract', axis=1, inplace=True)\n",
        "pop.drop('Base MSRP', axis=1, inplace=True)\n",
        "pop.drop('Electric Range', axis=1, inplace=True)\n",
        "pop.drop('Clean Alternative Fuel Vehicle (CAFV) Eligibility', axis=1, inplace=True)\n",
        "pop.drop('Legislative District', axis=1, inplace=True)\n",
        "pop.drop('DOL Vehicle ID', axis=1, inplace=True)\n",
        "pop.drop('Vehicle Location', axis=1, inplace=True)\n",
        "\n",
        "#Rinmina colonne\n",
        "\n",
        "pop.rename(columns = {'Postal Code':'Postal_Code'}, inplace = True)\n",
        "pop.rename(columns = {'Model Year':'Model_Year'}, inplace = True)\n",
        "pop.rename(columns = {'Electric Vehicle Type':'EV_Type'}, inplace = True)\n",
        "pop.rename(columns = {'Vehicle Location':'Vehicle_Location'}, inplace = True)\n",
        "\n",
        "\n",
        "pop_tmt = pop[pop.State == \"WA\"]\n",
        "\n",
        "pop_tmt"
      ]
    },
    {
      "cell_type": "code",
      "execution_count": null,
      "metadata": {
        "colab": {
          "base_uri": "https://localhost:8080/",
          "height": 424
        },
        "id": "HQXX9u-gYifS",
        "outputId": "f5ae8aca-edd9-4c32-9bc4-f52417d71878"
      },
      "outputs": [],
      "source": [
        "\n",
        "#Pulizia del data_set Adopt (Solo rinomina colonne)\n",
        "\n",
        "adopt.rename(columns = {'Vehicle Primary Use':'User'}, inplace = True)\n",
        "adopt.rename(columns = {'Battery Electric Vehicles (BEVs)':'Battery_EV'}, inplace = True)\n",
        "adopt.rename(columns = {'Plug-In Hybrid Electric Vehicles (PHEVs)':'Plugin_Hybrid_EV'}, inplace = True)\n",
        "adopt.rename(columns = {'Electric Vehicle (EV) Total':'EV_Total'}, inplace = True)\n",
        "adopt.rename(columns = {'Non-Electric Vehicle Total':'Non_EV_Total'}, inplace = True)\n",
        "adopt.rename(columns = {'Total Vehicles':'Vehicles_Total'}, inplace = True)\n",
        "adopt.rename(columns = {'Percent Electric Vehicles':'Percent_EV'}, inplace = True)\n",
        "adopt[adopt.User == \"Passenger\"]\n"
      ]
    },
    {
      "cell_type": "code",
      "execution_count": null,
      "metadata": {},
      "outputs": [],
      "source": [
        "# df3 e df3_vecchio ottenuti dopo query SQL e formattazione della data da Excel (il vechio ha 29 Febbraio 2020)\n",
        "df3_vecchio = pd.read_csv(r\"C:\\Users\\Piate\\Desktop\\Uni\\TERZO ANNO\\ARD\\DATASET_ESAME\\DATASET_ESAME_date_pulite.csv\")\n",
        "df3 = pd.read_csv(r\"C:\\Users\\Piate\\Desktop\\Uni\\TERZO ANNO\\ARD\\DATASET_ESAME\\DATASET_ESAME_date_pulite-_1_.csv\")\n",
        "df4 = pd.read_excel(r\"C:\\Users\\Piate\\Desktop\\Uni\\TERZO ANNO\\ARD\\DATASET_ESAME\\DATASET_ESAME_date_pulite.xlsx\")"
      ]
    },
    {
      "cell_type": "markdown",
      "metadata": {
        "id": "XsgzEEF894bJ"
      },
      "source": [
        "**PLANNING DEI GRAFICI**\n",
        "===\n",
        "\n",
        "\n",
        "> **Grafico 1** - Bar Chart (con confronto totale)\n",
        "\n",
        "Andamento temporale hybrid vs plug-in (https://data.wa.gov/Transportation/Electric-Vehicle-Population-Counts/qi6z-wzah)\n",
        "\n",
        "\n",
        "\n",
        "> **Grafico 2** - pie chart\n",
        "\n",
        "Percentuali modelli/marchio elettrici per anno\n",
        "\n",
        "\n",
        "\n",
        "> **Grafico 3** - mapbox\n",
        "\n",
        "mappa per contea per anno\n",
        "\n",
        "\n",
        "\n",
        "\n",
        "\n",
        "\n"
      ]
    },
    {
      "cell_type": "markdown",
      "metadata": {
        "id": "Zs2Su8sr9n6h"
      },
      "source": [
        "**GRAFICO 1**\n",
        "---"
      ]
    },
    {
      "cell_type": "code",
      "execution_count": null,
      "metadata": {
        "colab": {
          "base_uri": "https://localhost:8080/",
          "height": 542
        },
        "id": "m6k7nCZtCq3R",
        "outputId": "f595bbfc-4e4d-4c0d-b246-9112410cbd47"
      },
      "outputs": [],
      "source": [
        "#plotto il grafico - tentativo riuscito con id-colore\n",
        "#possibile soluzione per evitare colonna ID_Colore: {int(i): str(i) for i in df1.Plugin_Hybrid_EV : 'red'} --> problema: da errore\n",
        "\n",
        "fig0 = px.line(df3, y='EV_Total', x='Date', color = 'ID_Colore_Totale', color_discrete_map= {'Totale' : 'red'})\n",
        "fig1 = px.bar(df3, y='Plugin_Hybrid_EV', x='Date', color = 'ID_Colore_Plugin', color_discrete_map= {'Ibrido plugin' : '#3366CC'})\n",
        "fig2 = px.bar(df3, y='Battery_EV', x='Date', color = 'ID_Colore_Batteria', color_discrete_map= {'Batteria' : \"#0099c6\"})\n",
        "\n",
        "fig = go.Figure(data = fig1.data + fig2.data + fig0.data)\n",
        "fig.update_layout(barmode=\"stack\", clickmode=\"event+select\")\n",
        "\n",
        "fig.update_layout(legend_traceorder= 'reversed')\n",
        "fig.show()"
      ]
    },
    {
      "cell_type": "code",
      "execution_count": null,
      "metadata": {
        "colab": {
          "base_uri": "https://localhost:8080/",
          "height": 671
        },
        "id": "GUgeyfhG0elF",
        "outputId": "379e7584-4eec-46fc-f1ef-07b9d0cd8e34"
      },
      "outputs": [],
      "source": [
        "from jupyter_dash import JupyterDash\n",
        "from dash import Dash, html, dcc, Input, Output\n",
        "\n",
        "app_Graph1 = JupyterDash(__name__)\n",
        "\n",
        "app_Graph1.layout = html.Div([dcc.Markdown(children = 'Seleziona la **data di inizio**'),    \n",
        "                      dcc.Dropdown(id = 'dropdown_start_input',\n",
        "                                   options = df3.Date.unique(),\n",
        "                                   value = 'January  2017'),\n",
        "                      dcc.Markdown(children = \"---\"),\n",
        "                      dcc.Markdown(children = \"Seleziona la **data di fine**\"),\n",
        "                      dcc.Dropdown(id = 'dropdown_end_input',\n",
        "                                   options = df3.Date.unique(),\n",
        "                                   value = 'December  2022'),\n",
        "                      dcc.Markdown(children = '---'),\n",
        "                      dcc.Graph(id = 'figure_output'),\n",
        "                      dcc.Markdown(children = '---')],\n",
        "                      # style = {'width': '20%'}\n",
        "                      #use 100% of your brain! l'ultimo style si rifa a tutto l'HTML, di conseguenza \n",
        "                      #se vuoi mantenere 100% di un certo componente, devi moltiplicarlo per multipli di 100% \n",
        "                      \n",
        ")\n",
        "\n",
        "app_Graph1.run_server(mode = 'external')\n",
        "@app_Graph1.callback(Output(component_id = 'figure_output', component_property = 'figure'),\n",
        "              Input(component_id = 'dropdown_start_input', component_property = 'value'),\n",
        "              Input(component_id = 'dropdown_end_input', component_property = 'value'))\n",
        "\n",
        "def update_figure_output(start,end):\n",
        "  df5 = df4\n",
        "  pd.to_datetime(df5['Date'])\n",
        "  df6 = df5.Date.between(start,end)\n",
        "  df6 = df5.loc[df6]\n",
        "\n",
        "  fig0 = px.line(df6, y='EV_Total', x='Date', color = 'ID_Colore_Totale', color_discrete_map= {'Totale' : 'red'})\n",
        "  fig1 = px.bar(df6, y='Plugin_Hybrid_EV', x='Date', color = 'ID_Colore_Plugin', color_discrete_map= {'Ibrido plugin' : '#3366CC'})\n",
        "  fig2 = px.bar(df6, y='Battery_EV', x='Date', color = 'ID_Colore_Batteria', color_discrete_map= {'Batteria' : \"#0099c6\"})\n",
        "  fig = go.Figure(data = fig1.data + fig2.data + fig0.data)\n",
        "  fig.update_layout(barmode=\"stack\", clickmode=\"event+select\", legend_traceorder= 'reversed', transition = {'duration': 1000})\n",
        "  return fig"
      ]
    },
    {
      "cell_type": "markdown",
      "metadata": {
        "id": "QI_DT-i_9t1l"
      },
      "source": [
        "**GRAFICO 2**\n",
        "---\n",
        "Descrizione: "
      ]
    },
    {
      "cell_type": "code",
      "execution_count": null,
      "metadata": {
        "colab": {
          "base_uri": "https://localhost:8080/",
          "height": 671
        },
        "id": "B4aJDARko_Sv",
        "outputId": "8cf27228-d999-43d0-a1ee-b5385901c9d9"
      },
      "outputs": [],
      "source": [
        "#DASH FUNZIONANTE CON County e Make DINAMICO -- NON ELIMINAREEEEEEEEEEEEEEEEEEEEEEEEEEEEEEEEEEEEEEEEEEEEEEEEE\n",
        "\n",
        "\n",
        "#vogliamo gestire il caso \"non ci sono veicoli di questo Make nella County selezionata\"? Sarebbe certamente più carino. Esempio: PORSCHE - Asotin\n",
        "#vogliamo gestire il caso \"non ci sono veicoli di questo Make nella County selezionata\"? Sarebbe certamente più carino. Esempio: PORSCHE - Asotin\n",
        "#vogliamo gestire il caso \"non ci sono veicoli di questo Make nella County selezionata\"? Sarebbe certamente più carino. Esempio: PORSCHE - Asotin\n",
        "#vogliamo gestire il caso \"non ci sono veicoli di questo Make nella County selezionata\"? Sarebbe certamente più carino. Esempio: PORSCHE - Asotin\n",
        "#vogliamo gestire il caso \"non ci sono veicoli di questo Make nella County selezionata\"? Sarebbe certamente più carino. Esempio: PORSCHE - Asotin\n",
        "#vogliamo gestire il caso \"non ci sono veicoli di questo Make nella County selezionata\"? Sarebbe certamente più carino. Esempio: PORSCHE - Asotin\n",
        "#vogliamo gestire il caso \"non ci sono veicoli di questo Make nella County selezionata\"? Sarebbe certamente più carino. Esempio: PORSCHE - Asotin\n",
        "#vogliamo gestire il caso \"non ci sono veicoli di questo Make nella County selezionata\"? Sarebbe certamente più carino. Esempio: PORSCHE - Asotin\n",
        "\n",
        "from jupyter_dash import JupyterDash\n",
        "from decimal import Decimal, ROUND_DOWN\n",
        "from dash import Dash, html, dcc, Input, Output\n",
        "\n",
        "app_Graph2 = JupyterDash(__name__)\n",
        "\n",
        "pop1 = pop\n",
        "Makers = np.append(pop_tmt.Make.unique(), '-default- Tutti')\n",
        "County = np.append(pop_tmt.County.unique(), '-default- Tutte (statale)')\n",
        "\n",
        "app_Graph2.layout = html.Div([dcc.Markdown(children = 'Seleziona il **marchio**'),    \n",
        "                      dcc.Dropdown(id = 'dropdown_marchio',\n",
        "                                   options = sorted(Makers),\n",
        "                                   value = '-default- Tutti'),\n",
        "                      dcc.Markdown(children = \"Seleziona la **contea**\"),\n",
        "                      dcc.Dropdown(id = 'dropdown_contea',\n",
        "                                   options = sorted(County),\n",
        "                                   value = '-default- Tutte (statale)'),\n",
        "                      dcc.Markdown(children = '---'),\n",
        "                      dcc.Graph(id = 'figure_output'),\n",
        "                      dcc.Markdown(children = '---')],\n",
        "                      # style = {'width': '20%'}\n",
        "                      #use 100% of your brain! l'ultimo style si rifa a tutto l'HTML, di conseguenza \n",
        "                      #se vuoi mantenere 100% di un certo componente, devi moltiplicarlo per multipli di 100% \n",
        "                      \n",
        ")\n",
        "\n",
        "@app_Graph2.callback(Output(component_id = 'figure_output', component_property = 'figure'),\n",
        "              Input(component_id = 'dropdown_marchio', component_property = 'value'),\n",
        "              Input(component_id = 'dropdown_contea', component_property = 'value'))\n",
        "\n",
        "def pix_pie (make, county):\n",
        "  if (county == '-default- Tutte (statale)' and make == '-default- Tutti'): \n",
        "    test = pop_tmt\n",
        "  elif(county == '-default- Tutte (statale)'): \n",
        "    test = pop_tmt[pop_tmt['Make'] == make]\n",
        "  elif(make == '-default- Tutti'):\n",
        "    test = pop_tmt[pop_tmt['County'] == county]\n",
        "  else:\n",
        "    test = pop_tmt[pop_tmt['County'] == county]\n",
        "    test = test[test['Make'] == make]\n",
        "  \n",
        "  counts = test['Model'].value_counts().reset_index()\n",
        "  counts.columns = ['Model', 'Number_of_Vehicles']\n",
        "  total_count = counts['Number_of_Vehicles'].sum()\n",
        "  counts['percent_of_total'] = counts['Number_of_Vehicles'] / total_count * 100\n",
        "  counts['percent_of_total'] = counts['percent_of_total'].round(decimals = 2)\n",
        "  \n",
        "  #Rinomino tutti i modelli con percentuale minore di 2 con others, analogo al sito di Washington\n",
        "  counts.loc[counts['percent_of_total'] < 2, 'Model'] = \"Others\"\n",
        "  \n",
        "  #Plotto la tortina\n",
        "  fig = px.pie(counts, values = 'Number_of_Vehicles' , names = 'Model', hover_data=['percent_of_total'], labels={'percent_of_total':'percent of total','Number_of_Vehicles':'Number of Vehicles'})\n",
        "  return fig\n",
        "\n",
        "app_Graph2.run_server(mode = 'external')"
      ]
    },
    {
      "cell_type": "markdown",
      "metadata": {
        "id": "ZVxTrWZE9y3b"
      },
      "source": [
        "**GRAFICO 3**\n",
        "---\n",
        "Descrizione: "
      ]
    },
    {
      "cell_type": "code",
      "execution_count": null,
      "metadata": {
        "colab": {
          "base_uri": "https://localhost:8080/",
          "height": 380
        },
        "id": "_7IiHzvEn21x",
        "outputId": "aad18162-32ad-4d1b-c115-26ef3b25077c"
      },
      "outputs": [],
      "source": [
        "import pandas as pd\n",
        "import json\n",
        "import requests\n",
        "import plotly.express as px\n",
        "import geopandas as gpd\n",
        "\n",
        "# url = \"https://raw.githubusercontent.com/plotly/datasets/master/geojson-counties-fips.json\"\n",
        "\n",
        "# response = requests.get(url) \n",
        "# data = json.loads(response.content)\n",
        "\n",
        "# df = pd.json_normalize(data['features'])\n",
        "\n",
        "\n",
        "# # filter the dataframe to include only the rows corresponding to the state of Washington\n",
        "# df_wa = df[df['properties.STATE'] == '53']\n",
        "\n",
        "\n",
        "# # URL for the raw JSON file on Github\n",
        "url = 'https://raw.githubusercontent.com/plotly/datasets/master/geojson-counties-fips.json'\n",
        "\n",
        "# # Make a GET request to the URL\n",
        "response = requests.get(url)\n",
        "\n",
        "# # Check if the request was successful\n",
        "if response.status_code == 200:\n",
        "    # Load the JSON data from the response\n",
        "    data = json.loads(response.content)\n",
        "    # Do something with the data...\n",
        "else:\n",
        "    # Handle the error\n",
        "    print(\"Failed to download data. Status code:\", response.status_code)\n",
        "\n",
        "# Filter only the counties of Washington\n",
        "filtered_data = {\"type\": \"FeatureCollection\", \"features\": []}\n",
        "for feature in data[\"features\"]:\n",
        "    if feature[\"properties\"][\"STATE\"] == \"53\":\n",
        "        filtered_data[\"features\"].append(feature)\n",
        "\n",
        "\n",
        "tmp = adopt[adopt.Date == \"July 31 2022\"]\n",
        "\n",
        "fig = px.choropleth(tmp[tmp.User == \"Passenger\" ], geojson = filtered_data, \n",
        "                    featureidkey= \"properties.NAME\" ,\n",
        "                    locations= \"County\",\n",
        "                    color = 'Percent_EV',\n",
        "                    fitbounds = \"locations\",\n",
        "                    hover_name = 'Vehicles_Total',\n",
        "\n",
        "                    )\n",
        "\n",
        "fig.show()\n",
        "\n",
        "\n"
      ]
    },
    {
      "cell_type": "code",
      "execution_count": null,
      "metadata": {
        "colab": {
          "base_uri": "https://localhost:8080/",
          "height": 424
        },
        "id": "JKfkX8tUuBTv",
        "outputId": "7b222798-9ef2-4344-d1a3-4ca67eaee154"
      },
      "outputs": [],
      "source": [
        "from jupyter_dash import JupyterDash\n",
        "from dash import Dash, html, dcc, Input, Output\n",
        "import json\n",
        "import requests\n",
        "import plotly.express as px\n",
        "import geopandas as gpd\n",
        "\n",
        "app_Graph1 = JupyterDash(__name__)\n",
        "\n",
        "app_Graph1.layout = html.Div([dcc.Markdown(children = 'Seleziona la **data**'),    \n",
        "                      dcc.Dropdown(id = 'dropdown_start_input',\n",
        "                                   options = adopt.Date.unique(),\n",
        "                                   value = 'January  2017'),\n",
        "                      dcc.Markdown(children = '---'),\n",
        "                       dcc.Dropdown(id = 'dropdown_start_input1',\n",
        "                                   options = ['Battery_EV' , 'Plugin_Hybrid_EV'],\n",
        "                                   value = 'Battery_EV'),\n",
        "                      dcc.Graph(id = 'figure_output'),\n",
        "                      dcc.Markdown(children = '---')],\n",
        "                      # style = {'width': '20%'}\n",
        "                      #use 100% of your brain! l'ultimo style si rifa a tutto l'HTML, di conseguenza \n",
        "                      #se vuoi mantenere 100% di un certo componente, devi moltiplicarlo per multipli di 100% \n",
        "                      \n",
        ")\n",
        "\n",
        "@app_Graph1.callback(Output(component_id = 'figure_output', component_property = 'figure'),\n",
        "              Input(component_id = 'dropdown_start_input', component_property = 'value'),\n",
        "              Input(component_id = 'dropdown_start_input1', component_property = 'value'))\n",
        "             \n",
        "\n",
        "def update_figure_output(start,type):\n",
        "\n",
        "\n",
        " # # URL for the raw JSON file on Github\n",
        " url='https://raw.githubusercontent.com/plotly/datasets/master/geojson-counties-fips.json'\n",
        "\n",
        " # # Make a GET request to the URL\n",
        " response = requests.get(url)\n",
        "\n",
        " # # Check if the request was successful\n",
        " if response.status_code == 200:\n",
        "    # Load the JSON data from the response\n",
        "    data = json.loads(response.content)\n",
        "    # Do something with the data...\n",
        " else:\n",
        "    # Handle the error\n",
        "     print(\"Failed to download data. Status code:\", response.status_code)\n",
        "\n",
        " # Filter only the counties of Washington\n",
        " filtered_data = {\"type\": \"FeatureCollection\", \"features\": []}\n",
        " for feature in data[\"features\"]:\n",
        "     if feature[\"properties\"][\"STATE\"] == \"53\":\n",
        "         filtered_data[\"features\"].append(feature)\n",
        "\n",
        "\n",
        " tmp = adopt[adopt.Date == start]\n",
        " tmp1 = tmp[tmp.User == \"Passenger\"]\n",
        " median = tmp1[type].mean()\n",
        " fig = px.choropleth(tmp1, geojson = filtered_data, \n",
        "                    featureidkey= \"properties.NAME\" ,\n",
        "                    locations= \"County\",\n",
        "                    color = type ,\n",
        "                    hover_name = 'Vehicles_Total',\n",
        "                    range_color= (0,median)\n",
        "                    \n",
        "                    )\n",
        " fig = fig.update_geos(fitbounds = \"locations\", visible = True)\n",
        " return fig\n",
        "\n",
        " \n",
        "app_Graph1.run_server(mode = 'external')\n",
        "\n",
        "\n",
        "\n"
      ]
    },
    {
      "cell_type": "code",
      "execution_count": null,
      "metadata": {},
      "outputs": [],
      "source": [
        "adopt "
      ]
    }
  ],
  "metadata": {
    "colab": {
      "collapsed_sections": [
        "jtLsl3Jl8mxz"
      ],
      "provenance": []
    },
    "kernelspec": {
      "display_name": "Python 3",
      "language": "python",
      "name": "python3"
    },
    "language_info": {
      "codemirror_mode": {
        "name": "ipython",
        "version": 3
      },
      "file_extension": ".py",
      "mimetype": "text/x-python",
      "name": "python",
      "nbconvert_exporter": "python",
      "pygments_lexer": "ipython3",
      "version": "3.10.7"
    },
    "vscode": {
      "interpreter": {
        "hash": "26de051ba29f2982a8de78e945f0abaf191376122a1563185a90213a26c5da77"
      }
    }
  },
  "nbformat": 4,
  "nbformat_minor": 0
}
